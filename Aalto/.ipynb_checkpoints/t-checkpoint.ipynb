{
 "cells": [
  {
   "cell_type": "code",
   "execution_count": 3,
   "id": "40d11e0e",
   "metadata": {},
   "outputs": [
    {
     "name": "stdout",
     "output_type": "stream",
     "text": [
      "文件夹 Aria 创建成功\n",
      "文件夹 D-LinkCam 创建成功\n",
      "文件夹 D-LinkDayCam 创建成功\n",
      "文件夹 D-LinkDoorSensor 创建成功\n",
      "文件夹 D-LinkHomeHub 创建成功\n",
      "文件夹 D-LinkSensor 创建成功\n",
      "文件夹 D-LinkSiren 创建成功\n",
      "文件夹 D-LinkSwitch 创建成功\n",
      "文件夹 D-LinkWaterSensor 创建成功\n",
      "文件夹 EdimaxCam1 创建成功\n",
      "文件夹 EdimaxCam2 创建成功\n",
      "文件夹 EdimaxPlug1101W 创建成功\n",
      "文件夹 EdimaxPlug2101W 创建成功\n",
      "文件夹 EdnetCam1 创建成功\n",
      "文件夹 EdnetCam2 创建成功\n",
      "文件夹 EdnetGateway 创建成功\n",
      "文件夹 HomeMaticPlug 创建成功\n",
      "文件夹 HueBridge 创建成功\n",
      "文件夹 HueSwitch 创建成功\n",
      "文件夹 iKettle2 创建成功\n",
      "文件夹 Lightify 创建成功\n",
      "文件夹 MAXGateway 创建成功\n",
      "文件夹 SmarterCoffee 创建成功\n",
      "文件夹 TP-LinkPlugHS100 创建成功\n",
      "文件夹 TP-LinkPlugHS110 创建成功\n",
      "文件夹 WeMoInsightSwitch 创建成功\n",
      "文件夹 WeMoInsightSwitch2 创建成功\n",
      "文件夹 WeMoLink 创建成功\n",
      "文件夹 WeMoSwitch 创建成功\n",
      "文件夹 WeMoSwitch2 创建成功\n",
      "文件夹 Withings 创建成功\n"
     ]
    }
   ],
   "source": [
    "import os\n",
    "def create_folders(folder_names):\n",
    "    for folder_name in folder_names:\n",
    "        folder_path = 'features/npy/' + folder_name  # 创建在当前目录下，你可以指定具体路径\n",
    "        try:\n",
    "            os.mkdir(folder_path)\n",
    "            print(\"文件夹 \" + folder_name + \" 创建成功\")\n",
    "        except FileExistsError:\n",
    "            print(\"文件夹 \" + folder_name + \" 已经存在\")\n",
    "device_labels = ['Aria',\n",
    "             'D-LinkCam',\n",
    "             'D-LinkDayCam',\n",
    "             'D-LinkDoorSensor',\n",
    "             'D-LinkHomeHub',\n",
    "             'D-LinkSensor',\n",
    "             'D-LinkSiren',\n",
    "             'D-LinkSwitch',\n",
    "             'D-LinkWaterSensor',\n",
    "             'EdimaxCam1',\n",
    "             'EdimaxCam2',\n",
    "             'EdimaxPlug1101W',\n",
    "             'EdimaxPlug2101W',\n",
    "             'EdnetCam1',\n",
    "             'EdnetCam2',\n",
    "             'EdnetGateway',\n",
    "             'HomeMaticPlug',\n",
    "             'HueBridge',\n",
    "             'HueSwitch',\n",
    "             'iKettle2',\n",
    "             'Lightify',\n",
    "             'MAXGateway',\n",
    "             'SmarterCoffee',\n",
    "             'TP-LinkPlugHS100',\n",
    "             'TP-LinkPlugHS110',\n",
    "             'WeMoInsightSwitch',\n",
    "             'WeMoInsightSwitch2',\n",
    "             'WeMoLink',\n",
    "             'WeMoSwitch',\n",
    "             'WeMoSwitch2',\n",
    "             'Withings']\n",
    "create_folders(device_labels)\n",
    "\n",
    "# import numpy as np\n",
    "# arr = np.load(\"features/npy/Aria/Aria_0.npy\")\n",
    "# np.set_printoptions(threshold=np.inf)\n",
    "# print(arr)"
   ]
  },
  {
   "cell_type": "code",
   "execution_count": null,
   "id": "600ae58b",
   "metadata": {},
   "outputs": [],
   "source": []
  }
 ],
 "metadata": {
  "kernelspec": {
   "display_name": "pytorch",
   "language": "python",
   "name": "pytorch"
  },
  "language_info": {
   "codemirror_mode": {
    "name": "ipython",
    "version": 3
   },
   "file_extension": ".py",
   "mimetype": "text/x-python",
   "name": "python",
   "nbconvert_exporter": "python",
   "pygments_lexer": "ipython3",
   "version": "3.9.18"
  }
 },
 "nbformat": 4,
 "nbformat_minor": 5
}
